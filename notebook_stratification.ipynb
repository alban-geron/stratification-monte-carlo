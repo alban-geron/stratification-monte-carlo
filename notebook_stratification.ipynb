{
 "cells": [
  {
   "cell_type": "code",
   "execution_count": 54,
   "id": "fea733ad-21f5-4253-a66c-2fa68117c999",
   "metadata": {},
   "outputs": [],
   "source": [
    "import numpy as np\n",
    "import numpy.random as rd\n",
    "import pandas as pd\n",
    "from IPython.display import display, Math, HTML"
   ]
  },
  {
   "cell_type": "code",
   "execution_count": 55,
   "id": "55ebca97-3e01-417c-994c-23b4a26e947c",
   "metadata": {},
   "outputs": [],
   "source": [
    "def f(u):\n",
    "    return np.cos(2 * np.pi * (np.mean(u) - 1/2))"
   ]
  },
  {
   "cell_type": "code",
   "execution_count": 56,
   "id": "3a14fa5f-b20e-4bec-8a1e-396e45d845ff",
   "metadata": {},
   "outputs": [
    {
     "data": {
      "text/html": [
       "Notice that $I := \\int_{[0, 1]^d} f(u) du = \\mathbb{E}_{U \\sim \\mathcal{U}([0, 1]^d)}[f(U)]$. Thus, we can approximate $I$ using Monte Carlo."
      ],
      "text/plain": [
       "<IPython.core.display.HTML object>"
      ]
     },
     "metadata": {},
     "output_type": "display_data"
    }
   ],
   "source": [
    "# 1- Monte-Carlo\n",
    "display(HTML(r\"Notice that $I := \\int_{[0, 1]^d} f(u) du = \\mathbb{E}_{U \\sim \\mathcal{U}([0, 1]^d)}[f(U)]$. Thus, we can approximate $I$ using Monte Carlo.\"))"
   ]
  },
  {
   "cell_type": "code",
   "execution_count": 57,
   "id": "2d6de32b-f47d-466e-9adf-6246ebdb4fe5",
   "metadata": {},
   "outputs": [],
   "source": [
    "def montecarlo(d, N = 10000):\n",
    "    X = [f(rd.random(d)) for _ in range(N)]\n",
    "    return np.mean(X)"
   ]
  },
  {
   "cell_type": "code",
   "execution_count": 68,
   "id": "93ea76ff-0a53-4a86-a4f1-c24610471158",
   "metadata": {},
   "outputs": [
    {
     "data": {
      "text/html": [
       "<div>\n",
       "<style scoped>\n",
       "    .dataframe tbody tr th:only-of-type {\n",
       "        vertical-align: middle;\n",
       "    }\n",
       "\n",
       "    .dataframe tbody tr th {\n",
       "        vertical-align: top;\n",
       "    }\n",
       "\n",
       "    .dataframe thead th {\n",
       "        text-align: right;\n",
       "    }\n",
       "</style>\n",
       "<table border=\"1\" class=\"dataframe\">\n",
       "  <thead>\n",
       "    <tr style=\"text-align: right;\">\n",
       "      <th></th>\n",
       "      <th>100</th>\n",
       "      <th>1000</th>\n",
       "      <th>10000</th>\n",
       "    </tr>\n",
       "  </thead>\n",
       "  <tbody>\n",
       "    <tr>\n",
       "      <th>2</th>\n",
       "      <td>0.374299</td>\n",
       "      <td>0.385124</td>\n",
       "      <td>0.404313</td>\n",
       "    </tr>\n",
       "    <tr>\n",
       "      <th>3</th>\n",
       "      <td>0.607797</td>\n",
       "      <td>0.596365</td>\n",
       "      <td>0.562741</td>\n",
       "    </tr>\n",
       "    <tr>\n",
       "      <th>5</th>\n",
       "      <td>0.735572</td>\n",
       "      <td>0.724539</td>\n",
       "      <td>0.717093</td>\n",
       "    </tr>\n",
       "    <tr>\n",
       "      <th>10</th>\n",
       "      <td>0.852712</td>\n",
       "      <td>0.841630</td>\n",
       "      <td>0.846225</td>\n",
       "    </tr>\n",
       "    <tr>\n",
       "      <th>100</th>\n",
       "      <td>0.983933</td>\n",
       "      <td>0.983691</td>\n",
       "      <td>0.983480</td>\n",
       "    </tr>\n",
       "  </tbody>\n",
       "</table>\n",
       "</div>"
      ],
      "text/plain": [
       "        100       1000      10000\n",
       "2    0.374299  0.385124  0.404313\n",
       "3    0.607797  0.596365  0.562741\n",
       "5    0.735572  0.724539  0.717093\n",
       "10   0.852712  0.841630  0.846225\n",
       "100  0.983933  0.983691  0.983480"
      ]
     },
     "execution_count": 68,
     "metadata": {},
     "output_type": "execute_result"
    }
   ],
   "source": [
    "d_values = [2, 3, 5, 10, 100]\n",
    "N_values = [100, 1000, 10000]\n",
    "\n",
    "data = {N: [montecarlo(d, N) for d in d_values] for N in N_values}\n",
    "\n",
    "df = pd.DataFrame(data, index = d_values)\n",
    "df.head()"
   ]
  },
  {
   "cell_type": "code",
   "execution_count": null,
   "id": "52f3c8fd-2f50-40a8-a332-44bf7d360a7b",
   "metadata": {},
   "outputs": [],
   "source": []
  }
 ],
 "metadata": {
  "kernelspec": {
   "display_name": "Python 3 (ipykernel)",
   "language": "python",
   "name": "python3"
  },
  "language_info": {
   "codemirror_mode": {
    "name": "ipython",
    "version": 3
   },
   "file_extension": ".py",
   "mimetype": "text/x-python",
   "name": "python",
   "nbconvert_exporter": "python",
   "pygments_lexer": "ipython3",
   "version": "3.12.9"
  }
 },
 "nbformat": 4,
 "nbformat_minor": 5
}
