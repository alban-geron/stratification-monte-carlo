{
 "cells": [
  {
   "cell_type": "code",
   "execution_count": 40,
   "id": "fea733ad-21f5-4253-a66c-2fa68117c999",
   "metadata": {},
   "outputs": [],
   "source": [
    "import numpy as np\n",
    "import numpy.random as rd\n",
    "import pandas as pd\n",
    "from IPython.display import display, Math, HTML"
   ]
  },
  {
   "cell_type": "code",
   "execution_count": 41,
   "id": "55ebca97-3e01-417c-994c-23b4a26e947c",
   "metadata": {},
   "outputs": [],
   "source": [
    "def f(u):\n",
    "    return np.cos(2 * np.pi * (np.mean(u) - 1/2))"
   ]
  },
  {
   "cell_type": "markdown",
   "id": "cf489fb9",
   "metadata": {},
   "source": [
    "Notice that $I := \\int_{[0, 1]^d} f(u) du = \\mathbb{E}_{U \\sim \\mathcal{U}([0, 1]^d)}[f(U)]$. Thus, we can approximate $I$ using Monte Carlo."
   ]
  },
  {
   "cell_type": "code",
   "execution_count": 43,
   "id": "2d6de32b-f47d-466e-9adf-6246ebdb4fe5",
   "metadata": {},
   "outputs": [],
   "source": [
    "def montecarlo(d, N = 10000):\n",
    "    X = [f(rd.random(d)) for _ in range(N)]\n",
    "    return np.mean(X)"
   ]
  },
  {
   "cell_type": "code",
   "execution_count": 44,
   "id": "93ea76ff-0a53-4a86-a4f1-c24610471158",
   "metadata": {},
   "outputs": [
    {
     "data": {
      "text/html": [
       "<div>\n",
       "<style scoped>\n",
       "    .dataframe tbody tr th:only-of-type {\n",
       "        vertical-align: middle;\n",
       "    }\n",
       "\n",
       "    .dataframe tbody tr th {\n",
       "        vertical-align: top;\n",
       "    }\n",
       "\n",
       "    .dataframe thead th {\n",
       "        text-align: right;\n",
       "    }\n",
       "</style>\n",
       "<table border=\"1\" class=\"dataframe\">\n",
       "  <thead>\n",
       "    <tr style=\"text-align: right;\">\n",
       "      <th></th>\n",
       "      <th>100</th>\n",
       "      <th>1000</th>\n",
       "      <th>10000</th>\n",
       "    </tr>\n",
       "  </thead>\n",
       "  <tbody>\n",
       "    <tr>\n",
       "      <th>1</th>\n",
       "      <td>0.011286</td>\n",
       "      <td>0.000376</td>\n",
       "      <td>-0.009747</td>\n",
       "    </tr>\n",
       "    <tr>\n",
       "      <th>2</th>\n",
       "      <td>0.359022</td>\n",
       "      <td>0.408734</td>\n",
       "      <td>0.405004</td>\n",
       "    </tr>\n",
       "    <tr>\n",
       "      <th>3</th>\n",
       "      <td>0.564058</td>\n",
       "      <td>0.581170</td>\n",
       "      <td>0.566068</td>\n",
       "    </tr>\n",
       "    <tr>\n",
       "      <th>5</th>\n",
       "      <td>0.709669</td>\n",
       "      <td>0.706741</td>\n",
       "      <td>0.709269</td>\n",
       "    </tr>\n",
       "    <tr>\n",
       "      <th>10</th>\n",
       "      <td>0.850946</td>\n",
       "      <td>0.851896</td>\n",
       "      <td>0.846715</td>\n",
       "    </tr>\n",
       "    <tr>\n",
       "      <th>100</th>\n",
       "      <td>0.986757</td>\n",
       "      <td>0.982488</td>\n",
       "      <td>0.983756</td>\n",
       "    </tr>\n",
       "  </tbody>\n",
       "</table>\n",
       "</div>"
      ],
      "text/plain": [
       "        100       1000      10000\n",
       "1    0.011286  0.000376 -0.009747\n",
       "2    0.359022  0.408734  0.405004\n",
       "3    0.564058  0.581170  0.566068\n",
       "5    0.709669  0.706741  0.709269\n",
       "10   0.850946  0.851896  0.846715\n",
       "100  0.986757  0.982488  0.983756"
      ]
     },
     "execution_count": 44,
     "metadata": {},
     "output_type": "execute_result"
    }
   ],
   "source": [
    "# Results for different values of d and N\n",
    "\n",
    "d_values = [1, 2, 3, 5, 10, 100]\n",
    "N_values = [100, 1000, 10000]\n",
    "\n",
    "data = {N: [montecarlo(d, N) for d in d_values] for N in N_values}\n",
    "\n",
    "df = pd.DataFrame(data, index = d_values)\n",
    "df.iloc[:len(d_values)]"
   ]
  },
  {
   "cell_type": "code",
   "execution_count": 46,
   "id": "52f3c8fd-2f50-40a8-a332-44bf7d360a7b",
   "metadata": {},
   "outputs": [],
   "source": [
    "def quasimontecarlo(d = 1, N = 10000):\n",
    "    if d == 1:\n",
    "        X = [f((2 * n - 1)/(2 * N)) for n in range(1, N + 1)]\n",
    "        return np.mean(X)\n",
    "\n",
    "# Cas d > 1 à traiter"
   ]
  },
  {
   "cell_type": "code",
   "execution_count": 47,
   "id": "829427bd",
   "metadata": {},
   "outputs": [
    {
     "data": {
      "text/plain": [
       "(np.float64(-0.015555535832659242), np.float64(4.5474735088646414e-17))"
      ]
     },
     "execution_count": 47,
     "metadata": {},
     "output_type": "execute_result"
    }
   ],
   "source": [
    "montecarlo(1), quasimontecarlo(1)\n",
    "\n",
    "# Quasi-MC est beaucoup mieux que MC"
   ]
  }
 ],
 "metadata": {
  "kernelspec": {
   "display_name": "Python 3",
   "language": "python",
   "name": "python3"
  },
  "language_info": {
   "codemirror_mode": {
    "name": "ipython",
    "version": 3
   },
   "file_extension": ".py",
   "mimetype": "text/x-python",
   "name": "python",
   "nbconvert_exporter": "python",
   "pygments_lexer": "ipython3",
   "version": "3.12.9"
  }
 },
 "nbformat": 4,
 "nbformat_minor": 5
}
