{
 "cells": [
  {
   "cell_type": "markdown",
   "id": "1d0958e4",
   "metadata": {},
   "source": [
    "# **Stratification: Monte Carlo and Simulation**"
   ]
  },
  {
   "cell_type": "code",
   "execution_count": 1,
   "id": "fea733ad-21f5-4253-a66c-2fa68117c999",
   "metadata": {},
   "outputs": [],
   "source": [
    "import numpy as np\n",
    "import numpy.random as rd\n",
    "import pandas as pd\n",
    "import matplotlib.pyplot as plt\n",
    "from mpl_toolkits.mplot3d import Axes3D\n",
    "from scipy.stats import norm # ajouté pour la q3\n",
    "from scipy.stats.qmc import Sobol # ajouté pour la q3"
   ]
  },
  {
   "cell_type": "markdown",
   "id": "eb2c7bc0",
   "metadata": {},
   "source": [
    "## **Question 1**"
   ]
  },
  {
   "cell_type": "markdown",
   "id": "9741d24d",
   "metadata": {},
   "source": [
    "We define the function $f$:"
   ]
  },
  {
   "cell_type": "code",
   "execution_count": 2,
   "id": "55ebca97-3e01-417c-994c-23b4a26e947c",
   "metadata": {},
   "outputs": [],
   "source": [
    "def f(u):\n",
    "    return np.cos(2 * np.pi * (np.mean(u) - 1/2))"
   ]
  },
  {
   "cell_type": "markdown",
   "id": "cf489fb9",
   "metadata": {},
   "source": [
    "### **Monte-Carlo**\n",
    "\n",
    "Notice that $I := \\int_{[0, 1]^d} f(u) du = \\mathbb{E}_{U \\sim \\mathcal{U}([0, 1]^d)}[f(U)]$. Thus, we can approximate $I$ using Monte Carlo."
   ]
  },
  {
   "cell_type": "code",
   "execution_count": null,
   "id": "2d6de32b-f47d-466e-9adf-6246ebdb4fe5",
   "metadata": {},
   "outputs": [],
   "source": [
    "def montecarlo(d, N = 10000):\n",
    "    \"\"\"\n",
    "    Estimates the expected value of a function using the Monte Carlo method.\n",
    "\n",
    "    Parameters:\n",
    "    - d: The dimension of the hypercube the function f is defined on.\n",
    "    - N: The number of Monte Carlo simulations (default is 10,000).\n",
    "\n",
    "    Returns:\n",
    "    - The empirical mean of the function evaluations, approximating the expected value.\n",
    "    \"\"\"\n",
    "\n",
    "    X = [f(rd.random(d)) for _ in range(N)]\n",
    "    return np.mean(X)"
   ]
  },
  {
   "cell_type": "markdown",
   "id": "68e20183",
   "metadata": {},
   "source": [
    "Here are the results for different values of `N`:"
   ]
  },
  {
   "cell_type": "code",
   "execution_count": 4,
   "id": "93ea76ff-0a53-4a86-a4f1-c24610471158",
   "metadata": {},
   "outputs": [
    {
     "data": {
      "text/html": [
       "<div>\n",
       "<style scoped>\n",
       "    .dataframe tbody tr th:only-of-type {\n",
       "        vertical-align: middle;\n",
       "    }\n",
       "\n",
       "    .dataframe tbody tr th {\n",
       "        vertical-align: top;\n",
       "    }\n",
       "\n",
       "    .dataframe thead th {\n",
       "        text-align: right;\n",
       "    }\n",
       "</style>\n",
       "<table border=\"1\" class=\"dataframe\">\n",
       "  <thead>\n",
       "    <tr style=\"text-align: right;\">\n",
       "      <th></th>\n",
       "      <th>100</th>\n",
       "      <th>1000</th>\n",
       "      <th>10000</th>\n",
       "    </tr>\n",
       "  </thead>\n",
       "  <tbody>\n",
       "    <tr>\n",
       "      <th>1</th>\n",
       "      <td>0.085617</td>\n",
       "      <td>-0.001480</td>\n",
       "      <td>-0.000678</td>\n",
       "    </tr>\n",
       "    <tr>\n",
       "      <th>2</th>\n",
       "      <td>0.384960</td>\n",
       "      <td>0.414720</td>\n",
       "      <td>0.406361</td>\n",
       "    </tr>\n",
       "    <tr>\n",
       "      <th>3</th>\n",
       "      <td>0.509239</td>\n",
       "      <td>0.543971</td>\n",
       "      <td>0.561972</td>\n",
       "    </tr>\n",
       "    <tr>\n",
       "      <th>5</th>\n",
       "      <td>0.755660</td>\n",
       "      <td>0.716419</td>\n",
       "      <td>0.724930</td>\n",
       "    </tr>\n",
       "    <tr>\n",
       "      <th>10</th>\n",
       "      <td>0.873834</td>\n",
       "      <td>0.849471</td>\n",
       "      <td>0.847814</td>\n",
       "    </tr>\n",
       "    <tr>\n",
       "      <th>100</th>\n",
       "      <td>0.981670</td>\n",
       "      <td>0.984381</td>\n",
       "      <td>0.983946</td>\n",
       "    </tr>\n",
       "  </tbody>\n",
       "</table>\n",
       "</div>"
      ],
      "text/plain": [
       "        100       1000      10000\n",
       "1    0.085617 -0.001480 -0.000678\n",
       "2    0.384960  0.414720  0.406361\n",
       "3    0.509239  0.543971  0.561972\n",
       "5    0.755660  0.716419  0.724930\n",
       "10   0.873834  0.849471  0.847814\n",
       "100  0.981670  0.984381  0.983946"
      ]
     },
     "execution_count": 4,
     "metadata": {},
     "output_type": "execute_result"
    }
   ],
   "source": [
    "d_values = [1, 2, 3, 5, 10, 100]\n",
    "N_values = [100, 1000, 10000]\n",
    "\n",
    "data = {N: [montecarlo(d, N) for d in d_values] for N in N_values}\n",
    "\n",
    "df = pd.DataFrame(data, index = d_values)\n",
    "df.iloc[:len(d_values)]"
   ]
  },
  {
   "cell_type": "markdown",
   "id": "b913d5de",
   "metadata": {},
   "source": [
    "### **Quasi-Monte-Carlo**\n",
    "\n",
    "For quasi-MC and for $d > 1$, like in the course slides, we need to generate $N$ points $u_1, \\dots, u_N$ such that exactly one point falls in each strip of $\\left\\{\\frac{1}{2N}, \\frac{3}{2N}, \\dots, \\frac{2N - 1}{2N}\\right\\}^d$.\n",
    "\n",
    "This is the goal of the function `generate_indices()`.\n",
    "\n",
    "For the sake of clarity, instead of directly generating the points in $\\left\\{\\frac{1}{2N}, \\frac{3}{2N}, \\dots, \\frac{2N - 1}{2N}\\right\\}^d$, we will first generate them in $\\{0, 1, \\dots, N - 1\\}^d$ and then apply the function $x \\longmapsto \\frac{2x + 1}{2N}$ to each coordinate of the output vector.\n",
    "\n",
    "For $d = 2$, the above problem boils down to generating a permutation matrix $M = (m_{i, j}) \\in \\mathbb{R}^{N \\times N}$, i.e. $m_{i, j} = \\mathbf{1}_{i = \\sigma(j)}$ for some permutation $\\sigma$ of the set $\\{0, 1, \\dots, N - 1\\}$.\n",
    "\n",
    "For any $d \\geq 2$, this boils down to generating a $d$-dimensional table $M = (m_{i_1, \\dots, i_d}) \\in \\mathbb{R}^{N^d}$ such that$$m_{i_1, \\dots, i_d} = \\mathbf{1}_{i_1 = \\sigma_2(i_2) = \\cdots = \\sigma_d(i_d)}$$where $\\sigma_2, \\dots, \\sigma_d$ are $d - 1$ permutations of $\\{0, 1, \\dots, N - 1\\}$.\n",
    "\n",
    "The permutations are generated independently and uniformly on the (finite) set of permutations $\\mathfrak{S}(\\{0, 1, \\dots, N - 1\\})$."
   ]
  },
  {
   "cell_type": "code",
   "execution_count": null,
   "id": "52f3c8fd-2f50-40a8-a332-44bf7d360a7b",
   "metadata": {},
   "outputs": [],
   "source": [
    "def generate_indices(d, N = 10000):\n",
    "    \"\"\"\n",
    "    Generates a vector of N points (u_1, ..., u_N) such that exactly one point falls in each strip of {1/(2N), 3/(2N), ..., (2N - 1)/(2N)}^d\n",
    "\n",
    "    Parameters:\n",
    "    - d: The dimension of the hypercube the function f is defined on.\n",
    "    - N: The number of Monte Carlo simulations (default is 10,000).\n",
    "\n",
    "    Returns:\n",
    "    - A numpy array of size (N, d), representing the desired vector.\n",
    "    \"\"\"\n",
    "\n",
    "    list_indices = []\n",
    "    X = []\n",
    "    arr = np.array(list(range(N)))\n",
    "\n",
    "    # Generate perm such that perm[k] is the matrix M = (m_{i, j}) of the permutation \\sigma_{k + 2}^{-1}\n",
    "    perm = [rd.permutation(arr) for _ in range(d - 1)]\n",
    "\n",
    "    for i in range(N):\n",
    "        # For all k = 1, ... N - 1, get the value of \\sigma_{k + 2}^{-1}(i), i.e. the indice j such that m_{i, j} = 1\n",
    "        indices = [i] + [perm[k][i] for k in range(d - 1)]\n",
    "        list_indices.append(indices)\n",
    "\n",
    "    list_indices = np.array(list_indices)\n",
    "    list_indices = (2 * list_indices + 1)/(2 * N)\n",
    "    return list_indices"
   ]
  },
  {
   "cell_type": "markdown",
   "id": "ffe172be",
   "metadata": {},
   "source": [
    "Let's visualize what this function does.\n",
    "\n",
    "Case $d = 2$: this is what `generate_indices(2, 10)` corresponds to:"
   ]
  },
  {
   "cell_type": "code",
   "execution_count": 6,
   "id": "93b9b4eb",
   "metadata": {},
   "outputs": [
    {
     "name": "stdout",
     "output_type": "stream",
     "text": [
      "[[0.05 0.45]\n",
      " [0.15 0.35]\n",
      " [0.25 0.05]\n",
      " [0.35 0.55]\n",
      " [0.45 0.75]\n",
      " [0.55 0.25]\n",
      " [0.65 0.95]\n",
      " [0.75 0.65]\n",
      " [0.85 0.15]\n",
      " [0.95 0.85]]\n"
     ]
    },
    {
     "data": {
      "image/png": "[encoded data removed]",
      "text/plain": [
       "<Figure size 640x480 with 1 Axes>"
      ]
     },
     "metadata": {},
     "output_type": "display_data"
    }
   ],
   "source": [
    "points = generate_indices(2, 10)\n",
    "\n",
    "print(points)\n",
    "\n",
    "x = points[:, 0]\n",
    "y = points[:, 1]\n",
    "\n",
    "plt.scatter(x, y, s = 50)\n",
    "plt.xticks(np.linspace(0, 1, 11))\n",
    "plt.yticks(np.linspace(0, 1, 11))\n",
    "plt.grid(True, linestyle = '--')\n",
    "plt.show()"
   ]
  },
  {
   "cell_type": "markdown",
   "id": "1ee09cd6",
   "metadata": {},
   "source": [
    "Case $d = 3$: this is what `generate_indices(3, 10)` corresponds to:"
   ]
  },
  {
   "cell_type": "code",
   "execution_count": 7,
   "id": "9cf49bc1",
   "metadata": {},
   "outputs": [
    {
     "name": "stdout",
     "output_type": "stream",
     "text": [
      "[[0.05 0.25 0.55]\n",
      " [0.15 0.55 0.05]\n",
      " [0.25 0.05 0.25]\n",
      " [0.35 0.65 0.65]\n",
      " [0.45 0.35 0.45]\n",
      " [0.55 0.75 0.75]\n",
      " [0.65 0.45 0.15]\n",
      " [0.75 0.95 0.85]\n",
      " [0.85 0.85 0.95]\n",
      " [0.95 0.15 0.35]]\n"
     ]
    },
    {
     "data": {
      "image/png": "[encoded data removed]",
      "text/plain": [
       "<Figure size 1000x700 with 2 Axes>"
      ]
     },
     "metadata": {},
     "output_type": "display_data"
    }
   ],
   "source": [
    "points = generate_indices(3, 10)\n",
    "\n",
    "print(points)\n",
    "\n",
    "x = points[:, 0]\n",
    "y = points[:, 1]\n",
    "z = points[:, 2]\n",
    "\n",
    "fig = plt.figure(figsize = (10, 7))\n",
    "ax = fig.add_subplot(111, projection = '3d')\n",
    "\n",
    "# Grid\n",
    "ax.set_xticks(np.linspace(0, 1, 11))\n",
    "ax.set_yticks(np.linspace(0, 1, 11))\n",
    "ax.set_zticks(np.linspace(0, 1, 11))\n",
    "ax.grid(True, linestyle = '--')\n",
    "\n",
    "# Point of view\n",
    "ax.view_init(elev = 35, azim = -80)\n",
    "\n",
    "# The color is a function of height\n",
    "sc = ax.scatter(x, y, z,\n",
    "                c = z,\n",
    "                cmap = 'viridis',\n",
    "                s = 50,\n",
    "                alpha = 0.8)\n",
    "cbar = plt.colorbar(sc, ax = ax, shrink = 0.6)\n",
    "cbar.set_label(\"Height\")\n",
    "\n",
    "# Label of each axes\n",
    "ax.set_xlabel(\"X-axis\")\n",
    "ax.set_ylabel(\"Y-axis\")\n",
    "ax.set_zlabel(\"Z-axis\")\n",
    "\n",
    "plt.show()"
   ]
  },
  {
   "cell_type": "markdown",
   "id": "64648aee",
   "metadata": {},
   "source": [
    "An interactive version of the above graph can be plotted using `plotly`:"
   ]
  },
  {
   "cell_type": "code",
   "execution_count": 8,
   "id": "3310b03c",
   "metadata": {},
   "outputs": [
    {
     "data": {
      "application/vnd.plotly.v1+json": {
       "config": {
        "plotlyServerURL": "https://plot.ly"
       },
       "data": [
        {
         "marker": {
          "color": {
           "bdata": "AAAAAAAA0D8zMzMzMzPrP83MzMzMzNw/ZmZmZmZm7j+amZmZmZnhPzMzMzMzM8M/mpmZmZmZqT9mZmZmZmbWP83MzMzMzOQ/AAAAAAAA6D8=",
           "dtype": "f8"
          },
          "colorscale": [
           [
            0,
            "#440154"
           ],
           [
            0.1111111111111111,
            "#482878"
           ],
           [
            0.2222222222222222,
            "#3e4989"
           ],
           [
            0.3333333333333333,
            "#31688e"
           ],
           [
            0.4444444444444444,
            "#26828e"
           ],
           [
            0.5555555555555556,
            "#1f9e89"
           ],
           [
            0.6666666666666666,
            "#35b779"
           ],
           [
            0.7777777777777778,
            "#6ece58"
           ],
           [
            0.8888888888888888,
            "#b5de2b"
           ],
           [
            1,
            "#fde725"
           ]
          ],
          "opacity": 0.8,
          "size": 5
         },
         "mode": "markers",
         "type": "scatter3d",
         "x": {
          "bdata": "mpmZmZmZqT8zMzMzMzPDPwAAAAAAANA/ZmZmZmZm1j/NzMzMzMzcP5qZmZmZmeE/zczMzMzM5D8AAAAAAADoPzMzMzMzM+s/ZmZmZmZm7j8=",
          "dtype": "f8"
         },
         "y": {
          "bdata": "AAAAAAAA6D8AAAAAAADQP83MzMzMzOQ/ZmZmZmZm7j+amZmZmZmpPzMzMzMzM+s/mpmZmZmZ4T/NzMzMzMzcPzMzMzMzM8M/ZmZmZmZm1j8=",
          "dtype": "f8"
         },
         "z": {
          "bdata": "AAAAAAAA0D8zMzMzMzPrP83MzMzMzNw/ZmZmZmZm7j+amZmZmZnhPzMzMzMzM8M/mpmZmZmZqT9mZmZmZmbWP83MzMzMzOQ/AAAAAAAA6D8=",
          "dtype": "f8"
         }
        }
       ],
       "layout": {
        "margin": {
         "b": 0,
         "l": 0,
         "r": 0,
         "t": 40
        },
        "scene": {
         "xaxis": {
          "gridcolor": "lightgray",
          "showgrid": true,
          "title": {
           "text": "X-axis"
          }
         },
         "yaxis": {
          "gridcolor": "lightgray",
          "showgrid": true,
          "title": {
           "text": "Y-axis"
          }
         },
         "zaxis": {
          "gridcolor": "lightgray",
          "showgrid": true,
          "title": {
           "text": "Z-axis"
          }
         }
        },
        "template": {
         "data": {
          "bar": [
           {
            "error_x": {
             "color": "#2a3f5f"
            },
            "error_y": {
             "color": "#2a3f5f"
            },
            "marker": {
             "line": {
              "color": "#E5ECF6",
              "width": 0.5
             },
             "pattern": {
              "fillmode": "overlay",
              "size": 10,
              "solidity": 0.2
             }
            },
            "type": "bar"
           }
          ],
          "barpolar": [
           {
            "marker": {
             "line": {
              "color": "#E5ECF6",
              "width": 0.5
             },
             "pattern": {
              "fillmode": "overlay",
              "size": 10,
              "solidity": 0.2
             }
            },
            "type": "barpolar"
           }
          ],
          "carpet": [
           {
            "aaxis": {
             "endlinecolor": "#2a3f5f",
             "gridcolor": "white",
             "linecolor": "white",
             "minorgridcolor": "white",
             "startlinecolor": "#2a3f5f"
            },
            "baxis": {
             "endlinecolor": "#2a3f5f",
             "gridcolor": "white",
             "linecolor": "white",
             "minorgridcolor": "white",
             "startlinecolor": "#2a3f5f"
            },
            "type": "carpet"
           }
          ],
          "choropleth": [
           {
            "colorbar": {
             "outlinewidth": 0,
             "ticks": ""
            },
            "type": "choropleth"
           }
          ],
          "contour": [
           {
            "colorbar": {
             "outlinewidth": 0,
             "ticks": ""
            },
            "colorscale": [
             [
              0,
              "#0d0887"
             ],
             [
              0.1111111111111111,
              "#46039f"
             ],
             [
              0.2222222222222222,
              "#7201a8"
             ],
             [
              0.3333333333333333,
              "#9c179e"
             ],
             [
              0.4444444444444444,
              "#bd3786"
             ],
             [
              0.5555555555555556,
              "#d8576b"
             ],
             [
              0.6666666666666666,
              "#ed7953"
             ],
             [
              0.7777777777777778,
              "#fb9f3a"
             ],
             [
              0.8888888888888888,
              "#fdca26"
             ],
             [
              1,
              "#f0f921"
             ]
            ],
            "type": "contour"
           }
          ],
          "contourcarpet": [
           {
            "colorbar": {
             "outlinewidth": 0,
             "ticks": ""
            },
            "type": "contourcarpet"
           }
          ],
          "heatmap": [
           {
            "colorbar": {
             "outlinewidth": 0,
             "ticks": ""
            },
            "colorscale": [
             [
              0,
              "#0d0887"
             ],
             [
              0.1111111111111111,
              "#46039f"
             ],
             [
              0.2222222222222222,
              "#7201a8"
             ],
             [
              0.3333333333333333,
              "#9c179e"
             ],
             [
              0.4444444444444444,
              "#bd3786"
             ],
             [
              0.5555555555555556,
              "#d8576b"
             ],
             [
              0.6666666666666666,
              "#ed7953"
             ],
             [
              0.7777777777777778,
              "#fb9f3a"
             ],
             [
              0.8888888888888888,
              "#fdca26"
             ],
             [
              1,
              "#f0f921"
             ]
            ],
            "type": "heatmap"
           }
          ],
          "histogram": [
           {
            "marker": {
             "pattern": {
              "fillmode": "overlay",
              "size": 10,
              "solidity": 0.2
             }
            },
            "type": "histogram"
           }
          ],
          "histogram2d": [
           {
            "colorbar": {
             "outlinewidth": 0,
             "ticks": ""
            },
            "colorscale": [
             [
              0,
              "#0d0887"
             ],
             [
              0.1111111111111111,
              "#46039f"
             ],
             [
              0.2222222222222222,
              "#7201a8"
             ],
             [
              0.3333333333333333,
              "#9c179e"
             ],
             [
              0.4444444444444444,
              "#bd3786"
             ],
             [
              0.5555555555555556,
              "#d8576b"
             ],
             [
              0.6666666666666666,
              "#ed7953"
             ],
             [
              0.7777777777777778,
              "#fb9f3a"
             ],
             [
              0.8888888888888888,
              "#fdca26"
             ],
             [
              1,
              "#f0f921"
             ]
            ],
            "type": "histogram2d"
           }
          ],
          "histogram2dcontour": [
           {
            "colorbar": {
             "outlinewidth": 0,
             "ticks": ""
            },
            "colorscale": [
             [
              0,
              "#0d0887"
             ],
             [
              0.1111111111111111,
              "#46039f"
             ],
             [
              0.2222222222222222,
              "#7201a8"
             ],
             [
              0.3333333333333333,
              "#9c179e"
             ],
             [
              0.4444444444444444,
              "#bd3786"
             ],
             [
              0.5555555555555556,
              "#d8576b"
             ],
             [
              0.6666666666666666,
              "#ed7953"
             ],
             [
              0.7777777777777778,
              "#fb9f3a"
             ],
             [
              0.8888888888888888,
              "#fdca26"
             ],
             [
              1,
              "#f0f921"
             ]
            ],
            "type": "histogram2dcontour"
           }
          ],
          "mesh3d": [
           {
            "colorbar": {
             "outlinewidth": 0,
             "ticks": ""
            },
            "type": "mesh3d"
           }
          ],
          "parcoords": [
           {
            "line": {
             "colorbar": {
              "outlinewidth": 0,
              "ticks": ""
             }
            },
            "type": "parcoords"
           }
          ],
          "pie": [
           {
            "automargin": true,
            "type": "pie"
           }
          ],
          "scatter": [
           {
            "fillpattern": {
             "fillmode": "overlay",
             "size": 10,
             "solidity": 0.2
            },
            "type": "scatter"
           }
          ],
          "scatter3d": [
           {
            "line": {
             "colorbar": {
              "outlinewidth": 0,
              "ticks": ""
             }
            },
            "marker": {
             "colorbar": {
              "outlinewidth": 0,
              "ticks": ""
             }
            },
            "type": "scatter3d"
           }
          ],
          "scattercarpet": [
           {
            "marker": {
             "colorbar": {
              "outlinewidth": 0,
              "ticks": ""
             }
            },
            "type": "scattercarpet"
           }
          ],
          "scattergeo": [
           {
            "marker": {
             "colorbar": {
              "outlinewidth": 0,
              "ticks": ""
             }
            },
            "type": "scattergeo"
           }
          ],
          "scattergl": [
           {
            "marker": {
             "colorbar": {
              "outlinewidth": 0,
              "ticks": ""
             }
            },
            "type": "scattergl"
           }
          ],
          "scattermap": [
           {
            "marker": {
             "colorbar": {
              "outlinewidth": 0,
              "ticks": ""
             }
            },
            "type": "scattermap"
           }
          ],
          "scattermapbox": [
           {
            "marker": {
             "colorbar": {
              "outlinewidth": 0,
              "ticks": ""
             }
            },
            "type": "scattermapbox"
           }
          ],
          "scatterpolar": [
           {
            "marker": {
             "colorbar": {
              "outlinewidth": 0,
              "ticks": ""
             }
            },
            "type": "scatterpolar"
           }
          ],
          "scatterpolargl": [
           {
            "marker": {
             "colorbar": {
              "outlinewidth": 0,
              "ticks": ""
             }
            },
            "type": "scatterpolargl"
           }
          ],
          "scatterternary": [
           {
            "marker": {
             "colorbar": {
              "outlinewidth": 0,
              "ticks": ""
             }
            },
            "type": "scatterternary"
           }
          ],
          "surface": [
           {
            "colorbar": {
             "outlinewidth": 0,
             "ticks": ""
            },
            "colorscale": [
             [
              0,
              "#0d0887"
             ],
             [
              0.1111111111111111,
              "#46039f"
             ],
             [
              0.2222222222222222,
              "#7201a8"
             ],
             [
              0.3333333333333333,
              "#9c179e"
             ],
             [
              0.4444444444444444,
              "#bd3786"
             ],
             [
              0.5555555555555556,
              "#d8576b"
             ],
             [
              0.6666666666666666,
              "#ed7953"
             ],
             [
              0.7777777777777778,
              "#fb9f3a"
             ],
             [
              0.8888888888888888,
              "#fdca26"
             ],
             [
              1,
              "#f0f921"
             ]
            ],
            "type": "surface"
           }
          ],
          "table": [
           {
            "cells": {
             "fill": {
              "color": "#EBF0F8"
             },
             "line": {
              "color": "white"
             }
            },
            "header": {
             "fill": {
              "color": "#C8D4E3"
             },
             "line": {
              "color": "white"
             }
            },
            "type": "table"
           }
          ]
         },
         "layout": {
          "annotationdefaults": {
           "arrowcolor": "#2a3f5f",
           "arrowhead": 0,
           "arrowwidth": 1
          },
          "autotypenumbers": "strict",
          "coloraxis": {
           "colorbar": {
            "outlinewidth": 0,
            "ticks": ""
           }
          },
          "colorscale": {
           "diverging": [
            [
             0,
             "#8e0152"
            ],
            [
             0.1,
             "#c51b7d"
            ],
            [
             0.2,
             "#de77ae"
            ],
            [
             0.3,
             "#f1b6da"
            ],
            [
             0.4,
             "#fde0ef"
            ],
            [
             0.5,
             "#f7f7f7"
            ],
            [
             0.6,
             "#e6f5d0"
            ],
            [
             0.7,
             "#b8e186"
            ],
            [
             0.8,
             "#7fbc41"
            ],
            [
             0.9,
             "#4d9221"
            ],
            [
             1,
             "#276419"
            ]
           ],
           "sequential": [
            [
             0,
             "#0d0887"
            ],
            [
             0.1111111111111111,
             "#46039f"
            ],
            [
             0.2222222222222222,
             "#7201a8"
            ],
            [
             0.3333333333333333,
             "#9c179e"
            ],
            [
             0.4444444444444444,
             "#bd3786"
            ],
            [
             0.5555555555555556,
             "#d8576b"
            ],
            [
             0.6666666666666666,
             "#ed7953"
            ],
            [
             0.7777777777777778,
             "#fb9f3a"
            ],
            [
             0.8888888888888888,
             "#fdca26"
            ],
            [
             1,
             "#f0f921"
            ]
           ],
           "sequentialminus": [
            [
             0,
             "#0d0887"
            ],
            [
             0.1111111111111111,
             "#46039f"
            ],
            [
             0.2222222222222222,
             "#7201a8"
            ],
            [
             0.3333333333333333,
             "#9c179e"
            ],
            [
             0.4444444444444444,
             "#bd3786"
            ],
            [
             0.5555555555555556,
             "#d8576b"
            ],
            [
             0.6666666666666666,
             "#ed7953"
            ],
            [
             0.7777777777777778,
             "#fb9f3a"
            ],
            [
             0.8888888888888888,
             "#fdca26"
            ],
            [
             1,
             "#f0f921"
            ]
           ]
          },
          "colorway": [
           "#636efa",
           "#EF553B",
           "#00cc96",
           "#ab63fa",
           "#FFA15A",
           "#19d3f3",
           "#FF6692",
           "#B6E880",
           "#FF97FF",
           "#FECB52"
          ],
          "font": {
           "color": "#2a3f5f"
          },
          "geo": {
           "bgcolor": "white",
           "lakecolor": "white",
           "landcolor": "#E5ECF6",
           "showlakes": true,
           "showland": true,
           "subunitcolor": "white"
          },
          "hoverlabel": {
           "align": "left"
          },
          "hovermode": "closest",
          "mapbox": {
           "style": "light"
          },
          "paper_bgcolor": "white",
          "plot_bgcolor": "#E5ECF6",
          "polar": {
           "angularaxis": {
            "gridcolor": "white",
            "linecolor": "white",
            "ticks": ""
           },
           "bgcolor": "#E5ECF6",
           "radialaxis": {
            "gridcolor": "white",
            "linecolor": "white",
            "ticks": ""
           }
          },
          "scene": {
           "xaxis": {
            "backgroundcolor": "#E5ECF6",
            "gridcolor": "white",
            "gridwidth": 2,
            "linecolor": "white",
            "showbackground": true,
            "ticks": "",
            "zerolinecolor": "white"
           },
           "yaxis": {
            "backgroundcolor": "#E5ECF6",
            "gridcolor": "white",
            "gridwidth": 2,
            "linecolor": "white",
            "showbackground": true,
            "ticks": "",
            "zerolinecolor": "white"
           },
           "zaxis": {
            "backgroundcolor": "#E5ECF6",
            "gridcolor": "white",
            "gridwidth": 2,
            "linecolor": "white",
            "showbackground": true,
            "ticks": "",
            "zerolinecolor": "white"
           }
          },
          "shapedefaults": {
           "line": {
            "color": "#2a3f5f"
           }
          },
          "ternary": {
           "aaxis": {
            "gridcolor": "white",
            "linecolor": "white",
            "ticks": ""
           },
           "baxis": {
            "gridcolor": "white",
            "linecolor": "white",
            "ticks": ""
           },
           "bgcolor": "#E5ECF6",
           "caxis": {
            "gridcolor": "white",
            "linecolor": "white",
            "ticks": ""
           }
          },
          "title": {
           "x": 0.05
          },
          "xaxis": {
           "automargin": true,
           "gridcolor": "white",
           "linecolor": "white",
           "ticks": "",
           "title": {
            "standoff": 15
           },
           "zerolinecolor": "white",
           "zerolinewidth": 2
          },
          "yaxis": {
           "automargin": true,
           "gridcolor": "white",
           "linecolor": "white",
           "ticks": "",
           "title": {
            "standoff": 15
           },
           "zerolinecolor": "white",
           "zerolinewidth": 2
          }
         }
        },
        "title": {
         "text": "Graphique 3D Interactif"
        }
       }
      }
     },
     "metadata": {},
     "output_type": "display_data"
    }
   ],
   "source": [
    "import plotly.graph_objects as go\n",
    "\n",
    "# Générer les points\n",
    "points = generate_indices(3, 10)\n",
    "x = points[:, 0]\n",
    "y = points[:, 1]\n",
    "z = points[:, 2]\n",
    "\n",
    "# Création du scatter plot 3D interactif avec Plotly\n",
    "fig = go.Figure()\n",
    "\n",
    "fig.add_trace(go.Scatter3d(\n",
    "    x=x, y=y, z=z,\n",
    "    mode='markers',\n",
    "    marker=dict(\n",
    "        size=5,\n",
    "        color=z,  # Couleur en fonction de la hauteur\n",
    "        colorscale='viridis',\n",
    "        opacity=0.8\n",
    "    )\n",
    "))\n",
    "\n",
    "# Mise en forme des axes et du fond\n",
    "fig.update_layout(\n",
    "    title=\"Graphique 3D Interactif\",\n",
    "    scene=dict(\n",
    "        xaxis=dict(title=\"X-axis\", showgrid=True, gridcolor=\"lightgray\"),\n",
    "        yaxis=dict(title=\"Y-axis\", showgrid=True, gridcolor=\"lightgray\"),\n",
    "        zaxis=dict(title=\"Z-axis\", showgrid=True, gridcolor=\"lightgray\"),\n",
    "    ),\n",
    "    margin=dict(l=0, r=0, b=0, t=40),\n",
    ")\n",
    "\n",
    "# Affichage interactif\n",
    "fig.show()"
   ]
  },
  {
   "cell_type": "markdown",
   "id": "2463c7cb",
   "metadata": {},
   "source": [
    "Henceforth, we may use the function `generate_indices()` to generate a vector $(u_1, \\dots, u_N)$ as described above, and return the mean of $X = (f(u_1), \\dots, f(u_N))$.\n",
    "- For $d = 1$, the function is not needed, we simply use $(u_1, \\dots, u_N) = \\left(\\frac{1}{2N}, \\frac{3}{2N}, \\dots, \\frac{2N - 1}{2N}\\right)$ ;\n",
    "- For $d > 1$, the vector $(u_1, \\dots, u_N)$ is given by the output of `generate_indices(d, N)`."
   ]
  },
  {
   "cell_type": "code",
   "execution_count": 9,
   "id": "dc21e1a5",
   "metadata": {},
   "outputs": [],
   "source": [
    "def quasimontecarlo(d, N = 10000):\n",
    "    if d == 1:\n",
    "        X = [f((2 * n + 1)/(2 * N)) for n in range(N)]\n",
    "    if d > 1:\n",
    "        list_indices = generate_indices(d, N)\n",
    "        X = [f(u) for u in list_indices]\n",
    "    return np.mean(X)"
   ]
  },
  {
   "cell_type": "markdown",
   "id": "9420c949",
   "metadata": {},
   "source": [
    "For $d = 1$, we have $I = \\int_0^1 \\cos\\left(2 \\pi \\left(u - \\frac{1}{2}\\right)\\right) du = \\frac{1}{2\\pi} \\int_{-\\pi}^\\pi \\cos(t) dt = 0$. We can see below that quasi-MC is much better than MC."
   ]
  },
  {
   "cell_type": "code",
   "execution_count": 10,
   "id": "47b507e0",
   "metadata": {},
   "outputs": [
    {
     "data": {
      "text/plain": [
       "(0.0142886841859915, 4.5474735088646414e-17)"
      ]
     },
     "execution_count": 10,
     "metadata": {},
     "output_type": "execute_result"
    }
   ],
   "source": [
    "float(montecarlo(1)), float(quasimontecarlo(1))"
   ]
  },
  {
   "cell_type": "markdown",
   "id": "6c37f2c4",
   "metadata": {},
   "source": [
    "For $d > 1$: bon ça marche mais c'est trop bizarre car c'est à peu du même ordre que MC..."
   ]
  },
  {
   "cell_type": "code",
   "execution_count": 11,
   "id": "bc731f23",
   "metadata": {},
   "outputs": [
    {
     "data": {
      "text/plain": [
       "(0.40550274221976335,\n",
       " 0.4063451946099428,\n",
       " 1.4288469197828847e-05,\n",
       " 1.998308967617496e-05)"
      ]
     },
     "execution_count": 11,
     "metadata": {},
     "output_type": "execute_result"
    }
   ],
   "source": [
    "m1 = np.mean([montecarlo(2) for _ in range(10)])\n",
    "m2 = np.mean([quasimontecarlo(2) for _ in range(10)])\n",
    "v1 = np.var([montecarlo(2) for _ in range(10)])\n",
    "v2 = np.var([quasimontecarlo(2) for _ in range(10)])\n",
    "float(m1), float(m2), float(v1), float(v2)"
   ]
  },
  {
   "cell_type": "markdown",
   "id": "e74e18d5",
   "metadata": {},
   "source": [
    "## **Question 2**\n",
    "\n",
    "Let\n",
    "$$\\begin{aligned} \\mathfrak{C}_k := &\\left\\{\\left(\\frac{2j_1 + 1}{2k}, \\dots, \\frac{2j_d + 1}{2k}\\right) \\quad \\text{s.t.} \\quad (j_1, \\dots, j_d) \\in \\{0, 1, \\dots, k - 1\\}^d\\right\\} \\\\ = &\\left\\{\\frac{1}{2k}, \\frac{3}{2k}, \\dots, \\frac{2k - 1}{2k}\\right\\}^d \\end{aligned}$$\n",
    "\n",
    "Haber's first estimator is defined by\n",
    "$$\\hat{I}_{1,k}(f) := \\frac{1}{k^d} \\sum_{c \\in \\mathfrak{C}_k} f(c + U_c), \\quad U_c \\sim \\mathcal{U}\\left(\\left[-\\frac{1}{2k}, \\frac{1}{2k}\\right]^d\\right)$$\n",
    "\n",
    "To implement this estimor, we will first write a function that generates all the points that $\\mathfrak{C}_k$ contains:"
   ]
  },
  {
   "cell_type": "code",
   "execution_count": null,
   "id": "614649ac",
   "metadata": {},
   "outputs": [],
   "source": [
    "import itertools\n",
    "def c_0k(d, k):\n",
    "    \"\"\"\n",
    "    Generates all points of C_k.\n",
    "\n",
    "    Parameters:\n",
    "    - d: The dimension of the hypercube the function f is defined on.\n",
    "    - k: A parameter that represents the precision of the \"grid\" C_k.\n",
    "\n",
    "    Returns:\n",
    "    - A numpy array of size (k^d, d), which lines represent all the elements of C_k.\n",
    "    \"\"\"\n",
    "    return np.array([[(2*j + 1) / (2*k) for j in point] for point in itertools.product(range(k), repeat=d)])\n"
   ]
  },
  {
   "cell_type": "code",
   "execution_count": 13,
   "id": "17ca656c",
   "metadata": {},
   "outputs": [
    {
     "data": {
      "text/plain": [
       "array([[0.1, 0.1],\n",
       "       [0.1, 0.3],\n",
       "       [0.1, 0.5],\n",
       "       [0.1, 0.7],\n",
       "       [0.1, 0.9],\n",
       "       [0.3, 0.1],\n",
       "       [0.3, 0.3],\n",
       "       [0.3, 0.5],\n",
       "       [0.3, 0.7],\n",
       "       [0.3, 0.9],\n",
       "       [0.5, 0.1],\n",
       "       [0.5, 0.3],\n",
       "       [0.5, 0.5],\n",
       "       [0.5, 0.7],\n",
       "       [0.5, 0.9],\n",
       "       [0.7, 0.1],\n",
       "       [0.7, 0.3],\n",
       "       [0.7, 0.5],\n",
       "       [0.7, 0.7],\n",
       "       [0.7, 0.9],\n",
       "       [0.9, 0.1],\n",
       "       [0.9, 0.3],\n",
       "       [0.9, 0.5],\n",
       "       [0.9, 0.7],\n",
       "       [0.9, 0.9]])"
      ]
     },
     "execution_count": 13,
     "metadata": {},
     "output_type": "execute_result"
    }
   ],
   "source": [
    "c_0k(2, 5)"
   ]
  },
  {
   "cell_type": "code",
   "execution_count": null,
   "id": "3840ee17",
   "metadata": {},
   "outputs": [],
   "source": [
    "def haber_estimator_1(d, k, N = 10000):\n",
    "    c_0k_point = c_0k(d, k)\n",
    "    U_c = rd.uniform(-1/(2*k), 1/(2*k), size = (N, d))\n",
    "    X = [f(u + c) for c,u in zip(c_0k_point, U_c)]\n",
    "    return np.mean(X)"
   ]
  },
  {
   "cell_type": "code",
   "execution_count": 15,
   "id": "45b12e8f",
   "metadata": {},
   "outputs": [
    {
     "data": {
      "text/plain": [
       "(0.4049206312473144, 0.0006670155850212904)"
      ]
     },
     "execution_count": 15,
     "metadata": {},
     "output_type": "execute_result"
    }
   ],
   "source": [
    "m = np.mean([haber_estimator_1(2,5) for _ in range(10)])\n",
    "v = np.var([haber_estimator_1(2,5) for _ in range(10)])\n",
    "float(m), float(v)"
   ]
  },
  {
   "cell_type": "markdown",
   "id": "77987509",
   "metadata": {},
   "source": [
    "Let\n",
    "$$g_c(u) := \\frac{f(c + u) + f(c - u)}{2}$$\n",
    "\n",
    "Haber's second estimator is the following:\n",
    "$$\\hat{I}_{2,k}(f) := \\frac{1}{k^d} \\sum_{c \\in \\mathfrak{C}_k} g_c(U_c), \\quad U_c \\sim \\mathcal{U}\\left(\\left[-\\frac{1}{2k}, \\frac{1}{2k}\\right]^d\\right)$$\n"
   ]
  },
  {
   "cell_type": "code",
   "execution_count": null,
   "id": "a6e39d61",
   "metadata": {},
   "outputs": [],
   "source": [
    "def haber_estimator_2(d, k, N = 10000):\n",
    "    c_0k_point = c_0k(d, k)\n",
    "    U_c = rd.uniform(-1/(2*k), 1/(2*k), size = (N, d))\n",
    "    X = [(f(c + u) + f(c - u))/2 for c,u in zip(c_0k_point, U_c)]\n",
    "    return np.mean(X)"
   ]
  },
  {
   "cell_type": "code",
   "execution_count": 17,
   "id": "c65187bb",
   "metadata": {},
   "outputs": [
    {
     "data": {
      "text/plain": [
       "(0.3330392189724504, 0.4020370481040881)"
      ]
     },
     "execution_count": 17,
     "metadata": {},
     "output_type": "execute_result"
    }
   ],
   "source": [
    "float(haber_estimator_1(2,5)), float(haber_estimator_2(2,5))"
   ]
  },
  {
   "cell_type": "code",
   "execution_count": 18,
   "id": "5c0db11d",
   "metadata": {},
   "outputs": [
    {
     "data": {
      "text/plain": [
       "(0.40688936077421783, 1.9909045973892413e-05)"
      ]
     },
     "execution_count": 18,
     "metadata": {},
     "output_type": "execute_result"
    }
   ],
   "source": [
    "m = np.mean([haber_estimator_2(2,5) for _ in range(10)])\n",
    "v = np.var([haber_estimator_2(2,5) for _ in range(10)])\n",
    "float(m), float(v)"
   ]
  },
  {
   "cell_type": "markdown",
   "id": "ad2902d5",
   "metadata": {},
   "source": [
    "## **Question 3**\n",
    "### **Approximation of the integral using importance sampling**\n",
    "\n",
    "Assuming $u_1, \\dots, u_d \\overset{\\text{i.i.d.}}{\\sim} \\mathcal{U}([0, 1])$, the central limit theorem enables us to make the following approximation :\n",
    "\n",
    "$$\n",
    "\\frac{1}{d} \\sum_{i = 1}^d u_i \\sim \\mathcal{N}\\left(0.5, \\frac{1}{12d}\\right) \\quad \\text{when } d \\text{ is large}.\n",
    "$$\n",
    "\n",
    "This allows us to construct an importance sampling strategy to efficiently evaluate this integral."
   ]
  },
  {
   "cell_type": "markdown",
   "id": "738c4cfa",
   "metadata": {},
   "source": [
    "We will generate samples $u \\in [0, 1]^d$ where the mean approximately follows a normal distribution centered at $0.5$, with variance $\\frac{1}{12d}$.\n",
    "\n",
    "Then, we adjust the weights with the normal density to correct for bias, as in the importance sampling formula:\n",
    "\n",
    "$$\n",
    "I \\approx \\frac{1}{N} \\sum_{i=1}^N \\frac{f(u^{(i)})}{p(u^{(i)})}\n",
    "$$\n",
    "\n",
    "*TODO : Il faudrait définir ce qu'est la densité $p$ ici, et refaire le code qui suit de sorte que les variables soient samplées selon $p$.*"
   ]
  },
  {
   "cell_type": "code",
   "execution_count": 19,
   "id": "33f0a058",
   "metadata": {},
   "outputs": [],
   "source": [
    "def importance_sampling(f, d, N, plot=False):\n",
    "    # Parameters of the normal distribution for the mean\n",
    "    mu = 0.5\n",
    "    sigma = np.sqrt(1 / (12 * d))\n",
    "\n",
    "    # Drawing means according to the normal distribution\n",
    "    mean_samples = norm.rvs(loc=mu, scale=sigma, size=N)\n",
    "    mean_samples = np.clip(mean_samples, 0, 1)\n",
    "\n",
    "    # Generating points in [0,1]^d\n",
    "    samples = np.random.rand(N, d)\n",
    "    sample_means = np.mean(samples, axis=1, keepdims=True)\n",
    "    \n",
    "    # Adjustment to make the mean of each vector as desired\n",
    "    samples = samples - sample_means + mean_samples[:, np.newaxis]\n",
    "    samples = np.clip(samples, 0, 1)\n",
    "\n",
    "    # Function evaluation and weights\n",
    "    values = f(samples)\n",
    "    weights = norm.pdf(np.mean(samples, axis=1), loc=mu, scale=sigma)\n",
    "\n",
    "    # Estimation\n",
    "    estimate = np.mean(values / weights)\n",
    "\n",
    "    # Visualization\n",
    "    if plot:\n",
    "        plt.hist(np.mean(samples, axis=1), bins=30, alpha=0.6, label=\"Sample Means\", density=True)\n",
    "        x = np.linspace(0, 1, 500)\n",
    "        plt.plot(x, norm.pdf(x, loc=mu, scale=sigma), label=\"Normal PDF\", color=\"red\")\n",
    "        plt.title(f\"Distribution of Means (d={d})\")\n",
    "        plt.legend()\n",
    "        plt.grid(True)\n",
    "        plt.show()\n",
    "\n",
    "    return estimate"
   ]
  },
  {
   "cell_type": "markdown",
   "id": "7d073495",
   "metadata": {},
   "source": [
    "### **Testing the algorithm for multiple dimensions**\n",
    "\n",
    "We test importance sampling for different values of $d$, and visualize the distribution for $d = 10$."
   ]
  },
  {
   "cell_type": "code",
   "execution_count": 20,
   "id": "1f827e2a",
   "metadata": {},
   "outputs": [
    {
     "name": "stdout",
     "output_type": "stream",
     "text": [
      "d =  2 → Estimation ≈ 0.947972\n",
      "d =  5 → Estimation ≈ 0.677209\n"
     ]
    },
    {
     "data": {
      "image/png": "[encoded data removed]",
      "text/plain": [
       "<Figure size 640x480 with 1 Axes>"
      ]
     },
     "metadata": {},
     "output_type": "display_data"
    },
    {
     "name": "stdout",
     "output_type": "stream",
     "text": [
      "d = 10 → Estimation ≈ 0.523522\n",
      "d = 20 → Estimation ≈ 0.366792\n",
      "d = 50 → Estimation ≈ 0.386501\n"
     ]
    }
   ],
   "source": [
    "for d in [2, 5, 10, 20, 50]:\n",
    "    I = importance_sampling(f, d, N=10000, plot=(d == 10))\n",
    "    print(f\"d = {d:>2} → Estimation ≈ {I:.6f}\")"
   ]
  }
 ],
 "metadata": {
  "kernelspec": {
   "display_name": "Python 3",
   "language": "python",
   "name": "python3"
  },
  "language_info": {
   "codemirror_mode": {
    "name": "ipython",
    "version": 3
   },
   "file_extension": ".py",
   "mimetype": "text/x-python",
   "name": "python",
   "nbconvert_exporter": "python",
   "pygments_lexer": "ipython3",
   "version": "3.12.10"
  }
 },
 "nbformat": 4,
 "nbformat_minor": 5
}
